{
 "cells": [
  {
   "cell_type": "code",
   "execution_count": null,
   "metadata": {},
   "outputs": [],
   "source": [
    "from sklearn import preprocessing\n",
    "import numpy as np\n",
    "\n",
    "\n",
    "a = np.array([[10,2.7,3.6],[-100,5,-2],[120,20,40]], dtype=np.float64)\n",
    "\n",
    "###scale func\n",
    "print(a[:,:1].mean())\n",
    "print(a[:,:1].std())\n",
    "print((a[:,:1] - a[:,:1].mean())/a[:,:1].std())\n",
    "\n",
    "b=a.reshape(1*9)\n",
    "\n",
    "print(b)\n",
    "print(b.mean())\n",
    "\n",
    "print(preprocessing.scale(a)) #regularize to avoid overfitting\n",
    "\n",
    "\n",
    "\n",
    "\n",
    "\n",
    "\n"
   ]
  },
  {
   "cell_type": "code",
   "execution_count": null,
   "metadata": {},
   "outputs": [],
   "source": [
    "from sklearn.model_selection import train_test_split\n",
    "from sklearn.datasets.samples_generator import make_classification\n",
    "from sklearn.svm import SVC\n",
    "import matplotlib.pyplot as plt\n",
    "\n",
    "X, y = make_classification(n_samples=300, n_features=2, n_redundant=0, n_informative=2, random_state=22, n_clusters_per_class=1, scale=100)\n",
    "\n",
    "##Visualization\n",
    "plt.scatter(X[:,0], X[:,1], c=y)\n",
    "plt.show()\n",
    "\n",
    "##before scale\n",
    "X_train, X_test, y_train, y_test = train_test_split(X, y, test_size=0.3)\n",
    "clf = SVC()\n",
    "clf.fit(X_train, y_train)\n",
    "print(clf.score(X_train,y_train)) ##overfit\n",
    "print(clf.score(X_test,y_test))\n",
    "\n",
    "X = preprocessing.scale(X) ##scale to avoid overfit\n",
    "y = preprocessing.scale(y) ##scale to avoid overfit\n",
    "##after scale\n",
    "X_train, X_test, y_train, y_test = train_test_split(X, y, test_size=0.3)\n",
    "clf = SVC()\n",
    "clf.fit(X_train, y_train)\n",
    "print(clf.score(X_train,y_train))\n",
    "print(clf.score(X_test,y_test))\n",
    "\n"
   ]
  },
  {
   "cell_type": "code",
   "execution_count": null,
   "metadata": {},
   "outputs": [],
   "source": []
  },
  {
   "cell_type": "code",
   "execution_count": null,
   "metadata": {},
   "outputs": [],
   "source": []
  },
  {
   "cell_type": "code",
   "execution_count": null,
   "metadata": {},
   "outputs": [],
   "source": []
  }
 ],
 "metadata": {
  "kernelspec": {
   "display_name": "Python 3",
   "language": "python",
   "name": "python3"
  },
  "language_info": {
   "codemirror_mode": {
    "name": "ipython",
    "version": 3
   },
   "file_extension": ".py",
   "mimetype": "text/x-python",
   "name": "python",
   "nbconvert_exporter": "python",
   "pygments_lexer": "ipython3",
   "version": "3.6.4"
  }
 },
 "nbformat": 4,
 "nbformat_minor": 2
}
