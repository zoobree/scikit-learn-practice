{
 "cells": [
  {
   "cell_type": "code",
   "execution_count": null,
   "metadata": {
    "scrolled": true
   },
   "outputs": [],
   "source": [
    "from __future__ import print_function\n",
    "from sklearn import datasets\n",
    "from sklearn.linear_model import LinearRegression\n",
    "import matplotlib.pyplot as plt\n",
    "\n",
    "loaded_data = datasets.load_boston()\n",
    "data_X = loaded_data.data\n",
    "data_y = loaded_data.target\n",
    "\n",
    "print(\"Shape of data_X = \",str(data_X.shape))\n",
    "model = LinearRegression()\n",
    "model.fit(data_X, data_y)\n",
    "\n",
    "print(type(model))\n",
    "print(model.predict(data_X[:4,:]))\n",
    "print(model.predict(data_X[:10,:]))\n",
    "print(model.coef_)\n",
    "print(model.intercept_)\n",
    "print(model.get_params())\n",
    "print(model.score(data_X,data_y))\n",
    "\n",
    "\n",
    "\n"
   ]
  },
  {
   "cell_type": "code",
   "execution_count": null,
   "metadata": {},
   "outputs": [],
   "source": [
    "###Generate virtual data\n",
    "X,y = datasets.make_regression(n_samples=100, n_features=1, n_targets=1, noise=10)\n",
    "print(X.shape)\n",
    "plt.scatter(X, y)\n",
    "plt.show()\n",
    "X,y = datasets.make_regression(n_samples=100, n_features=1, n_targets=1, noise=50)\n",
    "print(X.shape)\n",
    "plt.scatter(X, y)\n",
    "plt.show()\n"
   ]
  },
  {
   "cell_type": "code",
   "execution_count": null,
   "metadata": {},
   "outputs": [],
   "source": [
    "\n",
    "\n",
    "\n",
    "\n"
   ]
  }
 ],
 "metadata": {
  "kernelspec": {
   "display_name": "Python 3",
   "language": "python",
   "name": "python3"
  },
  "language_info": {
   "codemirror_mode": {
    "name": "ipython",
    "version": 3
   },
   "file_extension": ".py",
   "mimetype": "text/x-python",
   "name": "python",
   "nbconvert_exporter": "python",
   "pygments_lexer": "ipython3",
   "version": "3.6.4"
  }
 },
 "nbformat": 4,
 "nbformat_minor": 2
}
