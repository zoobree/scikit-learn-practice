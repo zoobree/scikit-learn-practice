{
 "cells": [
  {
   "cell_type": "code",
   "execution_count": null,
   "metadata": {},
   "outputs": [],
   "source": [
    "from sklearn import datasets\n",
    "from sklearn.model_selection import train_test_split\n",
    "from sklearn.neighbors import KNeighborsClassifier\n",
    "import numpy as np\n",
    "\n",
    "\n",
    "##Load data\n",
    "iris = datasets.load_iris()\n",
    "iris_x = iris.data     ##ndarray\n",
    "iris_y = iris.target    \n",
    "\n",
    "##select traid and test data\n",
    "x_train,x_test,y_train,y_test = train_test_split(iris_x, iris_y, test_size=0.3)\n",
    "\n",
    "knn = KNeighborsClassifier()\n",
    "##begin to train\n",
    "knn.fit(x_train,y_train)\n",
    "\n",
    "print(\"predict result\")\n",
    "y_predict = knn.predict(x_test)\n",
    "print(y_predict)\n",
    "print(\"raw data\")\n",
    "print(y_test)\n",
    "print(len(y_test))\n",
    "\n",
    "true_num = 0\n",
    "for item in (y_test == y_predict):\n",
    "    if item == True:\n",
    "        true_num = true_num + 1\n",
    "        \n",
    "print(\"Precision = \"+str(float(true_num/len(y_test))))\n",
    "    \n",
    "\n"
   ]
  },
  {
   "cell_type": "code",
   "execution_count": null,
   "metadata": {},
   "outputs": [],
   "source": []
  },
  {
   "cell_type": "code",
   "execution_count": null,
   "metadata": {},
   "outputs": [],
   "source": []
  },
  {
   "cell_type": "code",
   "execution_count": null,
   "metadata": {},
   "outputs": [],
   "source": []
  }
 ],
 "metadata": {
  "kernelspec": {
   "display_name": "Python 3",
   "language": "python",
   "name": "python3"
  },
  "language_info": {
   "codemirror_mode": {
    "name": "ipython",
    "version": 3
   },
   "file_extension": ".py",
   "mimetype": "text/x-python",
   "name": "python",
   "nbconvert_exporter": "python",
   "pygments_lexer": "ipython3",
   "version": "3.6.4"
  }
 },
 "nbformat": 4,
 "nbformat_minor": 2
}
