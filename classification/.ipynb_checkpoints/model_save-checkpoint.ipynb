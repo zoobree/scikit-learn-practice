{
 "cells": [
  {
   "cell_type": "code",
   "execution_count": null,
   "metadata": {},
   "outputs": [],
   "source": [
    "from sklearn import svm\n",
    "from sklearn import datasets\n",
    "\n",
    "clf = svm.SVC()\n",
    "iris = datasets.load_iris()\n",
    "X,y = iris.data, iris.target\n",
    "clf.fit(X,y)"
   ]
  },
  {
   "cell_type": "code",
   "execution_count": null,
   "metadata": {},
   "outputs": [],
   "source": [
    "import pickle\n",
    "\n",
    "with open('e:/code/python/scikit-learn-practice/classification/clf.pickle', 'wb') as f:\n",
    "    pickle.dump(clf, f)\n",
    "with open('e:/code/python/scikit-learn-practice/classification/clf.pickle', 'rb') as f:\n",
    "    clf2 = pickle.load(f)\n",
    "    print(clf2.predict(X))\n",
    "    \n",
    "    "
   ]
  },
  {
   "cell_type": "code",
   "execution_count": null,
   "metadata": {},
   "outputs": [],
   "source": [
    "from sklearn.externals import joblib\n",
    "#save\n",
    "joblib.dump(clf, 'e:/code/python/scikit-learn-practice/classification/clf.pickle')\n",
    "\n",
    "#restore\n",
    "clf3 = joblib.load('e:/code/python/scikit-learn-practice/classification/clf.pickle')\n",
    "print(clf3.predict(X))\n",
    "\n",
    "\n"
   ]
  },
  {
   "cell_type": "code",
   "execution_count": null,
   "metadata": {},
   "outputs": [],
   "source": []
  }
 ],
 "metadata": {
  "kernelspec": {
   "display_name": "Python 3",
   "language": "python",
   "name": "python3"
  },
  "language_info": {
   "codemirror_mode": {
    "name": "ipython",
    "version": 3
   },
   "file_extension": ".py",
   "mimetype": "text/x-python",
   "name": "python",
   "nbconvert_exporter": "python",
   "pygments_lexer": "ipython3",
   "version": "3.6.4"
  }
 },
 "nbformat": 4,
 "nbformat_minor": 2
}
